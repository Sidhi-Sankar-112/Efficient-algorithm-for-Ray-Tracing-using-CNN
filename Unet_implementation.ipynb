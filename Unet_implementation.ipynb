{
  "nbformat": 4,
  "nbformat_minor": 0,
  "metadata": {
    "colab": {
      "provenance": [],
      "collapsed_sections": [],
      "machine_shape": "hm"
    },
    "kernelspec": {
      "name": "python3",
      "display_name": "Python 3"
    },
    "language_info": {
      "name": "python"
    },
    "accelerator": "GPU",
    "gpuClass": "standard"
  },
  "cells": [
    {
      "cell_type": "code",
      "source": [
        "from google.colab import drive\n",
        "drive.mount('/content/drive')"
      ],
      "metadata": {
        "id": "Km_8ur-jVz5B",
        "colab": {
          "base_uri": "https://localhost:8080/"
        },
        "outputId": "a9d926cc-75b0-43a5-838c-da252622b699"
      },
      "execution_count": null,
      "outputs": [
        {
          "output_type": "stream",
          "name": "stdout",
          "text": [
            "Drive already mounted at /content/drive; to attempt to forcibly remount, call drive.mount(\"/content/drive\", force_remount=True).\n"
          ]
        }
      ]
    },
    {
      "cell_type": "code",
      "source": [
        "import os\n",
        "import numpy as np\n",
        "import cv2\n",
        "from glob import glob\n",
        "import random\n",
        "import tensorflow as tf\n",
        "from tensorflow.keras.optimizers import Adam\n",
        "from sklearn.model_selection import train_test_split\n",
        "from keras.models import Model\n",
        "from keras.layers import Input, Conv2D, MaxPooling2D, UpSampling2D, concatenate, Conv2DTranspose, BatchNormalization, Dropout, Lambda, Activation\n",
        "from keras.metrics import MeanIoU\n",
        "\n",
        "from tqdm import tqdm\n",
        "from skimage.io import imread, imshow\n",
        "from skimage.transform import resize\n",
        "import matplotlib.pyplot as plt\n"
      ],
      "metadata": {
        "id": "4Ig6RjVcWDBe"
      },
      "execution_count": null,
      "outputs": []
    },
    {
      "cell_type": "code",
      "source": [
        "# Merged two gray scale images into one image of two channel so that we can input two images as input while training and predction\n",
        "def merge_data(input1, input2):\n",
        "  merged_data = []\n",
        "  for in1, in2 in zip(input1, input2):\n",
        "    merged_data.append([in1, in2])\n",
        "  return merged_data\n"
      ],
      "metadata": {
        "id": "RAxwuh7i8bdS"
      },
      "execution_count": null,
      "outputs": []
    },
    {
      "cell_type": "code",
      "source": [
        "#Load data path\n",
        "def load_data():\n",
        "    my_output = []\n",
        "\n",
        "    input1 = sorted(glob(os.path.join(\"/content/drive/MyDrive/Dataset/input/*\")))\n",
        "    input2 = sorted(glob(os.path.join(\"/content/drive/MyDrive/Dataset/Masks/*\")))\n",
        "    output = sorted(glob(os.path.join(\"/content/drive/MyDrive/Dataset/output/*\")))\n",
        "\n",
        "\n",
        "    input1_train,  input1_test = train_test_split(input1, test_size=0.2, shuffle=False)\n",
        "    input2_train,  input2_test = train_test_split(input2, test_size=0.2, shuffle=False)\n",
        "    input_train =  merge_data(input1_train, input2_train)\n",
        "    input_test = merge_data(input1_test, input2_test)\n",
        "\n",
        "    train_output, test_output = train_test_split(output, test_size=0.2, shuffle=False)\n",
        "    return (input_train, train_output), (input_test, test_output)"
      ],
      "metadata": {
        "id": "PBnQahTYu_gk"
      },
      "execution_count": null,
      "outputs": []
    },
    {
      "cell_type": "code",
      "source": [
        "# pre process\n",
        "def read_image(path):\n",
        "  x = cv2.imread(path, cv2.IMREAD_GRAYSCALE)\n",
        "  x = cv2.resize(x, (128, 128))\n",
        "  x = x/255.0\n",
        "  x = x.astype(np.float32)\n",
        "  x = np.expand_dims(x, axis=-1)\n",
        "  return x"
      ],
      "metadata": {
        "id": "GO_Tm41OIUNH"
      },
      "execution_count": null,
      "outputs": []
    },
    {
      "cell_type": "code",
      "source": [
        "# Read path\n",
        "def read_input(paths):\n",
        "  images = []\n",
        "  for path in paths:\n",
        "    images.append(read_image(path.decode()))\n",
        "  new_image =  np.concatenate((images[0], images[1]), axis=-1)\n",
        "  return new_image"
      ],
      "metadata": {
        "id": "yhVjRwwHvDB4"
      },
      "execution_count": null,
      "outputs": []
    },
    {
      "cell_type": "code",
      "source": [
        "def read_output(path):\n",
        "  return read_image(path.decode())"
      ],
      "metadata": {
        "id": "6mVsPoEt6y8m"
      },
      "execution_count": null,
      "outputs": []
    },
    {
      "cell_type": "code",
      "source": [
        "def preprocess(input_path, output_path):\n",
        "    def f(input_path, output_path):\n",
        "        input_path = input_path\n",
        "        output_path = output_path\n",
        "        x = read_input(input_path)\n",
        "        y = read_output(output_path)\n",
        "        return x, y\n",
        "    input, output = tf.numpy_function(f, [input_path, output_path], [tf.float32, tf.float32])\n",
        "    input.set_shape([128, 128, 2])\n",
        "    output.set_shape([128, 128, 1])\n",
        "    return input, output"
      ],
      "metadata": {
        "id": "z7Vcf2UWVxMf"
      },
      "execution_count": null,
      "outputs": []
    },
    {
      "cell_type": "code",
      "source": [
        "# Convert to tendor slices\n",
        "def tf_dataset(input, output, batch=8):\n",
        "    dataset = tf.data.Dataset.from_tensor_slices((input, output))\n",
        "    dataset = dataset.shuffle(buffer_size=5000)\n",
        "    dataset = dataset.map(preprocess)\n",
        "    dataset = dataset.batch(batch)\n",
        "    dataset = dataset.prefetch(2)\n",
        "    return dataset"
      ],
      "metadata": {
        "id": "m01_1wnAmzSd"
      },
      "execution_count": null,
      "outputs": []
    },
    {
      "cell_type": "code",
      "source": [
        "kernel_initializer =  'he_uniform'\n",
        "inputs = Input((128, 128, 2))\n",
        "s = inputs\n",
        "\n",
        "#### Down Sample ####\n",
        "\n",
        "### Block 1 ###\n",
        "c1 = Conv2D(16, (3, 3), activation='relu', kernel_initializer=kernel_initializer, padding='same')(s)\n",
        "c1 = Dropout(0.1)(c1) # To prevent from overfitting.\n",
        "c1 = Conv2D(16, (3, 3), activation='relu', kernel_initializer=kernel_initializer, padding='same')(c1)\n",
        "p1 = MaxPooling2D((2, 2), padding='same')(c1)\n",
        "# 128/2 = 64\n",
        "\n",
        "### Block 2 ###    \n",
        "c2 = Conv2D(32, (3, 3), activation='relu', kernel_initializer=kernel_initializer, padding='same')(p1)\n",
        "c2 = Dropout(0.1)(c2)\n",
        "c2 = Conv2D(32, (3, 3), activation='relu', kernel_initializer=kernel_initializer, padding='same')(c2) \n",
        "p2 = MaxPooling2D((2, 2), padding='same')(c2)\n",
        "# 64/2 = 32\n",
        "\n",
        "### Block 3 ###     \n",
        "c3 = Conv2D(64, (3, 3), activation='relu', kernel_initializer=kernel_initializer, padding='same')(p2)\n",
        "c3 = Dropout(0.2)(c3)\n",
        "c3 = Conv2D(64, (3, 3), activation='relu', kernel_initializer=kernel_initializer, padding='same')(c3) \n",
        "p3 = MaxPooling2D((2, 2) , padding='same')(c3)\n",
        "# 32/2  = 16     \n",
        "\n",
        "### Block 4 ###     \n",
        "c4 = Conv2D(128, (3, 3), activation='relu', kernel_initializer=kernel_initializer, padding='same')(p3)\n",
        "c4 = Dropout(0.2)(c4)\n",
        "c4 = Conv2D(128, (3, 3), activation='relu', kernel_initializer=kernel_initializer, padding='same')(c4) \n",
        "p4 = MaxPooling2D((2, 2), padding='same')(c4)\n",
        "# 16/2 = 8\n",
        "\n",
        "# Bridge block     \n",
        "c5 = Conv2D(256, (3, 3), activation='relu', kernel_initializer=kernel_initializer, padding='same')(p4) \n",
        "c5 = Dropout(0.3)(c5)\n",
        "c5 = Conv2D(256, (3, 3), activation='relu', kernel_initializer=kernel_initializer, padding='same')(c5) \n",
        "\n",
        "\n",
        "\n",
        "#Expansive path \n",
        "u6 = Conv2DTranspose(128, (2, 2), strides=(2, 2), padding='same')(c5) # 16 x 16\n",
        "u6 = concatenate([u6, c4]) # Skipp connection\n",
        "c6 = Conv2D(128, (3, 3), activation='relu', kernel_initializer=kernel_initializer, padding='same')(u6)\n",
        "c6 = Dropout(0.2)(c6)\n",
        "c6 = Conv2D(128, (3, 3), activation='relu', kernel_initializer=kernel_initializer, padding='same')(c6)\n",
        "     \n",
        "u7 = Conv2DTranspose(64, (2, 2), strides=(2, 2), padding='same')(c6) # 32 x 32\n",
        "u7 = concatenate([u7, c3])\n",
        "c7 = Conv2D(64, (3, 3), activation='relu', kernel_initializer=kernel_initializer, padding='same')(u7)\n",
        "c7 = Dropout(0.2)(c7)\n",
        "c7 = Conv2D(64, (3, 3), activation='relu', kernel_initializer=kernel_initializer, padding='same')(c7)\n",
        "     \n",
        "u8 = Conv2DTranspose(32, (2, 2), strides=(2, 2), padding='same')(c7) # 64 x 64\n",
        "u8 = concatenate([u8, c2])\n",
        "c8 = Conv2D(32, (3, 3), activation='relu', kernel_initializer=kernel_initializer, padding='same')(u8)\n",
        "c8 = Dropout(0.1)(c8)\n",
        "c8 = Conv2D(32, (3, 3), activation='relu', kernel_initializer=kernel_initializer, padding='same')(c8)\n",
        "     \n",
        "u9 = Conv2DTranspose(16, (2, 2), strides=(2, 2), padding='same')(c8) # 128 x 128\n",
        "u9 = concatenate([u9, c1], axis=3)\n",
        "c9 = Conv2D(16, (3, 3), activation='relu', kernel_initializer=kernel_initializer, padding='same')(u9)\n",
        "c9 = Dropout(0.1)(c9)\n",
        "c9 = Conv2D(16, (3, 3), activation='relu', kernel_initializer=kernel_initializer, padding='same')(c9)\n",
        "     \n",
        "outputs = Conv2D(1, (1, 1), activation='sigmoid')(c9)\n",
        "model = Model(inputs=[inputs], outputs=[outputs])\n",
        "model.compile(optimizer=Adam(lr = 1e-3), loss=tf.keras.losses.MeanAbsoluteError(),  metrics=['MSE','MAE', 'RootMeanSquaredError'])\n",
        "model.summary()\n",
        "     "
      ],
      "metadata": {
        "id": "aOESprKtuEIF",
        "colab": {
          "base_uri": "https://localhost:8080/"
        },
        "outputId": "d95fd26f-c419-4b6e-cf9b-738ebc563c7f"
      },
      "execution_count": null,
      "outputs": [
        {
          "output_type": "stream",
          "name": "stdout",
          "text": [
            "Model: \"model\"\n",
            "__________________________________________________________________________________________________\n",
            " Layer (type)                   Output Shape         Param #     Connected to                     \n",
            "==================================================================================================\n",
            " input_1 (InputLayer)           [(None, 128, 128, 2  0           []                               \n",
            "                                )]                                                                \n",
            "                                                                                                  \n",
            " conv2d (Conv2D)                (None, 128, 128, 16  304         ['input_1[0][0]']                \n",
            "                                )                                                                 \n",
            "                                                                                                  \n",
            " dropout (Dropout)              (None, 128, 128, 16  0           ['conv2d[0][0]']                 \n",
            "                                )                                                                 \n",
            "                                                                                                  \n",
            " conv2d_1 (Conv2D)              (None, 128, 128, 16  2320        ['dropout[0][0]']                \n",
            "                                )                                                                 \n",
            "                                                                                                  \n",
            " max_pooling2d (MaxPooling2D)   (None, 64, 64, 16)   0           ['conv2d_1[0][0]']               \n",
            "                                                                                                  \n",
            " conv2d_2 (Conv2D)              (None, 64, 64, 32)   4640        ['max_pooling2d[0][0]']          \n",
            "                                                                                                  \n",
            " dropout_1 (Dropout)            (None, 64, 64, 32)   0           ['conv2d_2[0][0]']               \n",
            "                                                                                                  \n",
            " conv2d_3 (Conv2D)              (None, 64, 64, 32)   9248        ['dropout_1[0][0]']              \n",
            "                                                                                                  \n",
            " max_pooling2d_1 (MaxPooling2D)  (None, 32, 32, 32)  0           ['conv2d_3[0][0]']               \n",
            "                                                                                                  \n",
            " conv2d_4 (Conv2D)              (None, 32, 32, 64)   18496       ['max_pooling2d_1[0][0]']        \n",
            "                                                                                                  \n",
            " dropout_2 (Dropout)            (None, 32, 32, 64)   0           ['conv2d_4[0][0]']               \n",
            "                                                                                                  \n",
            " conv2d_5 (Conv2D)              (None, 32, 32, 64)   36928       ['dropout_2[0][0]']              \n",
            "                                                                                                  \n",
            " max_pooling2d_2 (MaxPooling2D)  (None, 16, 16, 64)  0           ['conv2d_5[0][0]']               \n",
            "                                                                                                  \n",
            " conv2d_6 (Conv2D)              (None, 16, 16, 128)  73856       ['max_pooling2d_2[0][0]']        \n",
            "                                                                                                  \n",
            " dropout_3 (Dropout)            (None, 16, 16, 128)  0           ['conv2d_6[0][0]']               \n",
            "                                                                                                  \n",
            " conv2d_7 (Conv2D)              (None, 16, 16, 128)  147584      ['dropout_3[0][0]']              \n",
            "                                                                                                  \n",
            " max_pooling2d_3 (MaxPooling2D)  (None, 8, 8, 128)   0           ['conv2d_7[0][0]']               \n",
            "                                                                                                  \n",
            " conv2d_8 (Conv2D)              (None, 8, 8, 256)    295168      ['max_pooling2d_3[0][0]']        \n",
            "                                                                                                  \n",
            " dropout_4 (Dropout)            (None, 8, 8, 256)    0           ['conv2d_8[0][0]']               \n",
            "                                                                                                  \n",
            " conv2d_9 (Conv2D)              (None, 8, 8, 256)    590080      ['dropout_4[0][0]']              \n",
            "                                                                                                  \n",
            " conv2d_transpose (Conv2DTransp  (None, 16, 16, 128)  131200     ['conv2d_9[0][0]']               \n",
            " ose)                                                                                             \n",
            "                                                                                                  \n",
            " concatenate (Concatenate)      (None, 16, 16, 256)  0           ['conv2d_transpose[0][0]',       \n",
            "                                                                  'conv2d_7[0][0]']               \n",
            "                                                                                                  \n",
            " conv2d_10 (Conv2D)             (None, 16, 16, 128)  295040      ['concatenate[0][0]']            \n",
            "                                                                                                  \n",
            " dropout_5 (Dropout)            (None, 16, 16, 128)  0           ['conv2d_10[0][0]']              \n",
            "                                                                                                  \n",
            " conv2d_11 (Conv2D)             (None, 16, 16, 128)  147584      ['dropout_5[0][0]']              \n",
            "                                                                                                  \n",
            " conv2d_transpose_1 (Conv2DTran  (None, 32, 32, 64)  32832       ['conv2d_11[0][0]']              \n",
            " spose)                                                                                           \n",
            "                                                                                                  \n",
            " concatenate_1 (Concatenate)    (None, 32, 32, 128)  0           ['conv2d_transpose_1[0][0]',     \n",
            "                                                                  'conv2d_5[0][0]']               \n",
            "                                                                                                  \n",
            " conv2d_12 (Conv2D)             (None, 32, 32, 64)   73792       ['concatenate_1[0][0]']          \n",
            "                                                                                                  \n",
            " dropout_6 (Dropout)            (None, 32, 32, 64)   0           ['conv2d_12[0][0]']              \n",
            "                                                                                                  \n",
            " conv2d_13 (Conv2D)             (None, 32, 32, 64)   36928       ['dropout_6[0][0]']              \n",
            "                                                                                                  \n",
            " conv2d_transpose_2 (Conv2DTran  (None, 64, 64, 32)  8224        ['conv2d_13[0][0]']              \n",
            " spose)                                                                                           \n",
            "                                                                                                  \n",
            " concatenate_2 (Concatenate)    (None, 64, 64, 64)   0           ['conv2d_transpose_2[0][0]',     \n",
            "                                                                  'conv2d_3[0][0]']               \n",
            "                                                                                                  \n",
            " conv2d_14 (Conv2D)             (None, 64, 64, 32)   18464       ['concatenate_2[0][0]']          \n",
            "                                                                                                  \n",
            " dropout_7 (Dropout)            (None, 64, 64, 32)   0           ['conv2d_14[0][0]']              \n",
            "                                                                                                  \n",
            " conv2d_15 (Conv2D)             (None, 64, 64, 32)   9248        ['dropout_7[0][0]']              \n",
            "                                                                                                  \n",
            " conv2d_transpose_3 (Conv2DTran  (None, 128, 128, 16  2064       ['conv2d_15[0][0]']              \n",
            " spose)                         )                                                                 \n",
            "                                                                                                  \n",
            " concatenate_3 (Concatenate)    (None, 128, 128, 32  0           ['conv2d_transpose_3[0][0]',     \n",
            "                                )                                 'conv2d_1[0][0]']               \n",
            "                                                                                                  \n",
            " conv2d_16 (Conv2D)             (None, 128, 128, 16  4624        ['concatenate_3[0][0]']          \n",
            "                                )                                                                 \n",
            "                                                                                                  \n",
            " dropout_8 (Dropout)            (None, 128, 128, 16  0           ['conv2d_16[0][0]']              \n",
            "                                )                                                                 \n",
            "                                                                                                  \n"
          ]
        },
        {
          "output_type": "stream",
          "name": "stderr",
          "text": [
            "/usr/local/lib/python3.7/dist-packages/keras/optimizer_v2/adam.py:105: UserWarning: The `lr` argument is deprecated, use `learning_rate` instead.\n",
            "  super(Adam, self).__init__(name, **kwargs)\n"
          ]
        },
        {
          "output_type": "stream",
          "name": "stdout",
          "text": [
            " conv2d_17 (Conv2D)             (None, 128, 128, 16  2320        ['dropout_8[0][0]']              \n",
            "                                )                                                                 \n",
            "                                                                                                  \n",
            " conv2d_18 (Conv2D)             (None, 128, 128, 1)  17          ['conv2d_17[0][0]']              \n",
            "                                                                                                  \n",
            "==================================================================================================\n",
            "Total params: 1,940,961\n",
            "Trainable params: 1,940,961\n",
            "Non-trainable params: 0\n",
            "__________________________________________________________________________________________________\n"
          ]
        }
      ]
    },
    {
      "cell_type": "code",
      "source": [
        "my_callbacks = [\n",
        "    tf.keras.callbacks.TensorBoard(log_dir='./logs'),\n",
        "]\n",
        "batch_size = 8\n",
        "epochs = 25\n",
        "(train_x, train_y), (valid_x, valid_y) = load_data()\n",
        "train_dataset = tf_dataset(train_x, train_y, batch=batch_size)\n",
        "valid_dataset = tf_dataset(valid_x, valid_y, batch=batch_size)"
      ],
      "metadata": {
        "id": "cKlnOT5OK9fk"
      },
      "execution_count": null,
      "outputs": []
    },
    {
      "cell_type": "code",
      "source": [
        "# Model compile\n",
        "history = model.fit(train_dataset, validation_data=valid_dataset, epochs = epochs, batch_size = batch_size)"
      ],
      "metadata": {
        "id": "Hs24s8qRm_cD",
        "colab": {
          "base_uri": "https://localhost:8080/"
        },
        "outputId": "a262273f-993e-4a7c-ec1e-277949856b37"
      },
      "execution_count": null,
      "outputs": [
        {
          "output_type": "stream",
          "name": "stdout",
          "text": [
            "Epoch 1/25\n",
            "80/80 [==============================] - 27s 284ms/step - loss: 0.0396 - MSE: 0.0056 - MAE: 0.0396 - root_mean_squared_error: 0.0751 - val_loss: 0.0318 - val_MSE: 0.0022 - val_MAE: 0.0318 - val_root_mean_squared_error: 0.0466\n",
            "Epoch 2/25\n",
            "80/80 [==============================] - 23s 293ms/step - loss: 0.0131 - MSE: 7.3071e-04 - MAE: 0.0131 - root_mean_squared_error: 0.0270 - val_loss: 0.0203 - val_MSE: 7.2208e-04 - val_MAE: 0.0203 - val_root_mean_squared_error: 0.0269\n",
            "Epoch 3/25\n",
            "80/80 [==============================] - 23s 288ms/step - loss: 0.0096 - MSE: 2.9224e-04 - MAE: 0.0096 - root_mean_squared_error: 0.0171 - val_loss: 0.0168 - val_MSE: 4.4747e-04 - val_MAE: 0.0168 - val_root_mean_squared_error: 0.0212\n",
            "Epoch 4/25\n",
            "80/80 [==============================] - 23s 290ms/step - loss: 0.0078 - MSE: 1.6924e-04 - MAE: 0.0078 - root_mean_squared_error: 0.0130 - val_loss: 0.0134 - val_MSE: 2.6422e-04 - val_MAE: 0.0134 - val_root_mean_squared_error: 0.0163\n",
            "Epoch 5/25\n",
            "80/80 [==============================] - 23s 287ms/step - loss: 0.0066 - MSE: 1.2336e-04 - MAE: 0.0066 - root_mean_squared_error: 0.0111 - val_loss: 0.0123 - val_MSE: 2.0323e-04 - val_MAE: 0.0123 - val_root_mean_squared_error: 0.0143\n",
            "Epoch 6/25\n",
            "80/80 [==============================] - 23s 293ms/step - loss: 0.0057 - MSE: 1.0006e-04 - MAE: 0.0057 - root_mean_squared_error: 0.0100 - val_loss: 0.0096 - val_MSE: 1.3566e-04 - val_MAE: 0.0096 - val_root_mean_squared_error: 0.0116\n",
            "Epoch 7/25\n",
            "80/80 [==============================] - 23s 289ms/step - loss: 0.0050 - MSE: 8.4578e-05 - MAE: 0.0050 - root_mean_squared_error: 0.0092 - val_loss: 0.0086 - val_MSE: 1.1129e-04 - val_MAE: 0.0086 - val_root_mean_squared_error: 0.0105\n",
            "Epoch 8/25\n",
            "80/80 [==============================] - 23s 289ms/step - loss: 0.0046 - MSE: 7.4510e-05 - MAE: 0.0046 - root_mean_squared_error: 0.0086 - val_loss: 0.0059 - val_MSE: 8.2560e-05 - val_MAE: 0.0059 - val_root_mean_squared_error: 0.0091\n",
            "Epoch 9/25\n",
            "80/80 [==============================] - 23s 288ms/step - loss: 0.0041 - MSE: 6.5061e-05 - MAE: 0.0041 - root_mean_squared_error: 0.0081 - val_loss: 0.0049 - val_MSE: 5.9787e-05 - val_MAE: 0.0049 - val_root_mean_squared_error: 0.0077\n",
            "Epoch 10/25\n",
            "80/80 [==============================] - 24s 296ms/step - loss: 0.0038 - MSE: 5.9033e-05 - MAE: 0.0038 - root_mean_squared_error: 0.0077 - val_loss: 0.0053 - val_MSE: 6.0620e-05 - val_MAE: 0.0053 - val_root_mean_squared_error: 0.0078\n",
            "Epoch 11/25\n",
            "80/80 [==============================] - 23s 289ms/step - loss: 0.0035 - MSE: 5.3201e-05 - MAE: 0.0035 - root_mean_squared_error: 0.0073 - val_loss: 0.0027 - val_MSE: 4.0468e-05 - val_MAE: 0.0027 - val_root_mean_squared_error: 0.0064\n",
            "Epoch 12/25\n",
            "80/80 [==============================] - 23s 289ms/step - loss: 0.0032 - MSE: 4.8155e-05 - MAE: 0.0032 - root_mean_squared_error: 0.0069 - val_loss: 0.0026 - val_MSE: 3.5086e-05 - val_MAE: 0.0026 - val_root_mean_squared_error: 0.0059\n",
            "Epoch 13/25\n",
            "80/80 [==============================] - 23s 289ms/step - loss: 0.0030 - MSE: 4.4116e-05 - MAE: 0.0030 - root_mean_squared_error: 0.0066 - val_loss: 0.0027 - val_MSE: 4.0921e-05 - val_MAE: 0.0027 - val_root_mean_squared_error: 0.0064\n",
            "Epoch 14/25\n",
            "80/80 [==============================] - 23s 292ms/step - loss: 0.0029 - MSE: 4.2428e-05 - MAE: 0.0029 - root_mean_squared_error: 0.0065 - val_loss: 0.0025 - val_MSE: 3.4034e-05 - val_MAE: 0.0025 - val_root_mean_squared_error: 0.0058\n",
            "Epoch 15/25\n",
            "80/80 [==============================] - 23s 289ms/step - loss: 0.0028 - MSE: 4.0012e-05 - MAE: 0.0028 - root_mean_squared_error: 0.0063 - val_loss: 0.0023 - val_MSE: 2.9706e-05 - val_MAE: 0.0023 - val_root_mean_squared_error: 0.0055\n",
            "Epoch 16/25\n",
            "80/80 [==============================] - 23s 288ms/step - loss: 0.0028 - MSE: 3.9289e-05 - MAE: 0.0028 - root_mean_squared_error: 0.0063 - val_loss: 0.0026 - val_MSE: 3.4797e-05 - val_MAE: 0.0026 - val_root_mean_squared_error: 0.0059\n",
            "Epoch 17/25\n",
            "80/80 [==============================] - 23s 289ms/step - loss: 0.0027 - MSE: 3.7562e-05 - MAE: 0.0027 - root_mean_squared_error: 0.0061 - val_loss: 0.0022 - val_MSE: 2.7985e-05 - val_MAE: 0.0022 - val_root_mean_squared_error: 0.0053\n",
            "Epoch 18/25\n",
            "80/80 [==============================] - 23s 294ms/step - loss: 0.0027 - MSE: 3.6548e-05 - MAE: 0.0027 - root_mean_squared_error: 0.0060 - val_loss: 0.0022 - val_MSE: 2.5301e-05 - val_MAE: 0.0022 - val_root_mean_squared_error: 0.0050\n",
            "Epoch 19/25\n",
            "80/80 [==============================] - 23s 289ms/step - loss: 0.0026 - MSE: 3.5559e-05 - MAE: 0.0026 - root_mean_squared_error: 0.0060 - val_loss: 0.0022 - val_MSE: 2.9141e-05 - val_MAE: 0.0022 - val_root_mean_squared_error: 0.0054\n",
            "Epoch 20/25\n",
            "80/80 [==============================] - 23s 289ms/step - loss: 0.0026 - MSE: 3.5040e-05 - MAE: 0.0026 - root_mean_squared_error: 0.0059 - val_loss: 0.0021 - val_MSE: 2.3071e-05 - val_MAE: 0.0021 - val_root_mean_squared_error: 0.0048\n",
            "Epoch 21/25\n",
            "80/80 [==============================] - 23s 288ms/step - loss: 0.0026 - MSE: 3.3179e-05 - MAE: 0.0026 - root_mean_squared_error: 0.0058 - val_loss: 0.0022 - val_MSE: 2.3793e-05 - val_MAE: 0.0022 - val_root_mean_squared_error: 0.0049\n",
            "Epoch 22/25\n",
            "80/80 [==============================] - 24s 297ms/step - loss: 0.0025 - MSE: 3.2590e-05 - MAE: 0.0025 - root_mean_squared_error: 0.0057 - val_loss: 0.0021 - val_MSE: 2.4042e-05 - val_MAE: 0.0021 - val_root_mean_squared_error: 0.0049\n",
            "Epoch 23/25\n",
            "80/80 [==============================] - 23s 292ms/step - loss: 0.0025 - MSE: 3.1547e-05 - MAE: 0.0025 - root_mean_squared_error: 0.0056 - val_loss: 0.0021 - val_MSE: 2.3976e-05 - val_MAE: 0.0021 - val_root_mean_squared_error: 0.0049\n",
            "Epoch 24/25\n",
            "80/80 [==============================] - 23s 288ms/step - loss: 0.0024 - MSE: 3.0398e-05 - MAE: 0.0024 - root_mean_squared_error: 0.0055 - val_loss: 0.0020 - val_MSE: 2.2142e-05 - val_MAE: 0.0020 - val_root_mean_squared_error: 0.0047\n",
            "Epoch 25/25\n",
            "80/80 [==============================] - 23s 289ms/step - loss: 0.0023 - MSE: 2.9307e-05 - MAE: 0.0023 - root_mean_squared_error: 0.0054 - val_loss: 0.0017 - val_MSE: 2.0954e-05 - val_MAE: 0.0017 - val_root_mean_squared_error: 0.0046\n"
          ]
        }
      ]
    },
    {
      "cell_type": "code",
      "source": [
        "def load_test_data():\n",
        "    input1 = sorted(glob(os.path.join(\"/content/drive/MyDrive/Test_data/input/*\")))\n",
        "    input2 = sorted(glob(os.path.join(\"/content/drive/MyDrive/Test_data/Masks/*\")))\n",
        "    output = sorted(glob(os.path.join(\"/content/drive/MyDrive/Test_data/output/*\")))\n",
        "    test_image =  merge_data(input1, input2)\n",
        "    return test_image, output"
      ],
      "metadata": {
        "id": "rRWFxZUNr-Gg"
      },
      "execution_count": null,
      "outputs": []
    },
    {
      "cell_type": "code",
      "source": [
        "test_x, test_y = load_test_data()\n",
        "test_dataset = tf_dataset(test_x, test_y, batch=batch_size)"
      ],
      "metadata": {
        "id": "5ETgumahsCZO"
      },
      "execution_count": null,
      "outputs": []
    },
    {
      "cell_type": "code",
      "source": [
        "score = model.evaluate(test_dataset, verbose = 0) "
      ],
      "metadata": {
        "id": "MLxRUgK-sGNw"
      },
      "execution_count": null,
      "outputs": []
    },
    {
      "cell_type": "code",
      "source": [
        "dict(zip(model.metrics_names, score))"
      ],
      "metadata": {
        "id": "YooGqHgPsIm-",
        "colab": {
          "base_uri": "https://localhost:8080/"
        },
        "outputId": "fe9b96aa-edac-4b82-977f-f6e7bee516e0"
      },
      "execution_count": null,
      "outputs": [
        {
          "output_type": "execute_result",
          "data": {
            "text/plain": [
              "{'loss': 0.001696826540865004,\n",
              " 'MSE': 1.650616104598157e-05,\n",
              " 'MAE': 0.001696826540865004,\n",
              " 'root_mean_squared_error': 0.0040627773851156235}"
            ]
          },
          "metadata": {},
          "execution_count": 38
        }
      ]
    },
    {
      "cell_type": "code",
      "source": [
        "plt.plot(history.history['loss'], label=\"Loss\")\n",
        "plt.plot(history.history['val_loss'], label=\"val_loss\")\n",
        "plt.xlabel(\"Epochs\")\n",
        "plt.ylabel(\"Loss\")\n",
        "plt.title(\"Losses over epochs\")\n",
        "# plt.ylim([0, 0.5])\n",
        "plt.legend()\n",
        "plt.show()"
      ],
      "metadata": {
        "id": "57vxk6HmsMxJ",
        "colab": {
          "base_uri": "https://localhost:8080/",
          "height": 295
        },
        "outputId": "223aab84-39a5-4631-f63c-18668ef96372"
      },
      "execution_count": null,
      "outputs": [
        {
          "output_type": "display_data",
          "data": {
            "text/plain": [
              "<Figure size 432x288 with 1 Axes>"
            ],
            "image/png": "[encoded data removed]"
          },
          "metadata": {
            "needs_background": "light"
          }
        }
      ]
    },
    {
      "cell_type": "code",
      "source": [
        "plt.plot(history.history['MAE'], label=\"MAE\")\n",
        "plt.plot(history.history['val_MAE'], label=\"val_MAE\")\n",
        "plt.xlabel(\"Epochs\")\n",
        "plt.ylabel(\"MAE\")\n",
        "plt.title(\"Mean Absolute Error over epochs\")\n",
        "# plt.ylim([0, 0.5])\n",
        "plt.legend()\n",
        "plt.show()"
      ],
      "metadata": {
        "id": "sS9jeHPOsWFl",
        "colab": {
          "base_uri": "https://localhost:8080/",
          "height": 295
        },
        "outputId": "47674e16-5b7d-4d09-fa98-3e1d0507e662"
      },
      "execution_count": null,
      "outputs": [
        {
          "output_type": "display_data",
          "data": {
            "text/plain": [
              "<Figure size 432x288 with 1 Axes>"
            ],
            "image/png": "[encoded data removed]"
          },
          "metadata": {
            "needs_background": "light"
          }
        }
      ]
    },
    {
      "cell_type": "code",
      "source": [
        "plt.plot(history.history['MSE'], label=\"MSE\")\n",
        "plt.plot(history.history['val_MSE'], label=\"val_MSE\")\n",
        "plt.xlabel(\"Epochs\")\n",
        "plt.ylabel(\"MSE\")\n",
        "plt.title(\"MSE over Epochs\")\n",
        "# plt.ylim([0, 0.5])\n",
        "plt.legend()\n",
        "plt.show()"
      ],
      "metadata": {
        "id": "hIeG5gYwsPrM",
        "colab": {
          "base_uri": "https://localhost:8080/",
          "height": 295
        },
        "outputId": "80bf9e45-2fb5-4507-a945-817ccdd57f48"
      },
      "execution_count": null,
      "outputs": [
        {
          "output_type": "display_data",
          "data": {
            "text/plain": [
              "<Figure size 432x288 with 1 Axes>"
            ],
            "image/png": "[encoded data removed]"
          },
          "metadata": {
            "needs_background": "light"
          }
        }
      ]
    },
    {
      "cell_type": "code",
      "source": [
        "plt.plot(history.history['root_mean_squared_error'], label=\"root_mean_squared_error\")\n",
        "plt.plot(history.history['val_root_mean_squared_error'], label=\"val_root_mean_squared_error\")\n",
        "plt.xlabel(\"Epochs\")\n",
        "plt.ylabel(\"RMSE\")\n",
        "plt.title(\"RMSE Error over epochs\")\n",
        "# plt.ylim([0, 0.5])\n",
        "plt.legend()\n",
        "plt.show()"
      ],
      "metadata": {
        "id": "eHoObW2tsSn0",
        "colab": {
          "base_uri": "https://localhost:8080/",
          "height": 295
        },
        "outputId": "4e9540fa-e981-49e2-f931-8dac5abc06fb"
      },
      "execution_count": null,
      "outputs": [
        {
          "output_type": "display_data",
          "data": {
            "text/plain": [
              "<Figure size 432x288 with 1 Axes>"
            ],
            "image/png": "[encoded data removed]"
          },
          "metadata": {
            "needs_background": "light"
          }
        }
      ]
    },
    {
      "cell_type": "code",
      "source": [
        "inp = read_image('/content/drive/MyDrive/Final_test_data_external/input/20.png')\n",
        "mask =  read_image('/content/drive/MyDrive/Final_test_data_external/Masks/20.png')\n",
        "test_data =  np.concatenate((inp, mask), axis=-1)\n",
        "test_data = np.expand_dims(test_data, axis=0)"
      ],
      "metadata": {
        "id": "JbIJHNWHRuW_"
      },
      "execution_count": null,
      "outputs": []
    },
    {
      "cell_type": "code",
      "source": [
        "result  = model.predict(test_data)[0]"
      ],
      "metadata": {
        "id": "2Qk6TvZrSrqO"
      },
      "execution_count": null,
      "outputs": []
    },
    {
      "cell_type": "code",
      "source": [
        "exp_img_path = '/content/drive/MyDrive/Final_test_data_external/output/20.png'\n",
        "expeted_result =cv2.imread(exp_img_path, cv2.IMREAD_GRAYSCALE)"
      ],
      "metadata": {
        "id": "KqXRY4ayB35A"
      },
      "execution_count": null,
      "outputs": []
    },
    {
      "cell_type": "code",
      "source": [
        "plt.figure(figsize=(8, 8))\n",
        "\n",
        "plt.subplot(221)\n",
        "plt.title('Expected Result')\n",
        "plt.imshow(expeted_result, cmap='gray'), plt.xticks([]), plt.yticks([])\n",
        "\n",
        "plt.subplot(222)\n",
        "plt.title('Prediction Result')\n",
        "result = np.squeeze(result)\n",
        "plt.imshow(result, cmap='gray'), plt.xticks([]), plt.yticks([])\n",
        "plt.show()\n"
      ],
      "metadata": {
        "id": "4mXuim4l_hJk",
        "colab": {
          "base_uri": "https://localhost:8080/",
          "height": 248
        },
        "outputId": "0bc8feca-f0f8-4290-dca1-f3dd2c30307d"
      },
      "execution_count": null,
      "outputs": [
        {
          "output_type": "display_data",
          "data": {
            "text/plain": [
              "<Figure size 576x576 with 2 Axes>"
            ],
            "image/png": "[encoded data removed]"
          },
          "metadata": {}
        }
      ]
    },
    {
      "cell_type": "code",
      "source": [
        "def load_external_test_data():\n",
        "    input1 = sorted(glob(os.path.join(\"/content/drive/MyDrive/Final_test_data_external/input/*\")))\n",
        "    input2 = sorted(glob(os.path.join(\"/content/drive/MyDrive/Final_test_data_external/Masks/*\")))\n",
        "    output = sorted(glob(os.path.join(\"/content/drive/MyDrive/Final_test_data_external/output/*\")))\n",
        "    test_image =  merge_data(input1, input2)\n",
        "    return test_image, output"
      ],
      "metadata": {
        "id": "w6w5NLrqs-6w"
      },
      "execution_count": null,
      "outputs": []
    },
    {
      "cell_type": "code",
      "source": [
        "test_e_x, test_e_y = load_external_test_data()\n",
        "external_test_dataset = tf_dataset(test_e_x, test_e_y, batch=batch_size)"
      ],
      "metadata": {
        "id": "so8dKCaOtB53"
      },
      "execution_count": null,
      "outputs": []
    },
    {
      "cell_type": "code",
      "source": [
        "score_ex = model.evaluate(external_test_dataset, verbose = 0)"
      ],
      "metadata": {
        "id": "9XJSxQhKtD6B"
      },
      "execution_count": null,
      "outputs": []
    },
    {
      "cell_type": "code",
      "source": [
        "dict(zip(model.metrics_names, score_ex))"
      ],
      "metadata": {
        "id": "I25CuCFJtFfP",
        "colab": {
          "base_uri": "https://localhost:8080/"
        },
        "outputId": "4baa077f-2bc5-4877-d906-86ad1aec71af"
      },
      "execution_count": null,
      "outputs": [
        {
          "output_type": "execute_result",
          "data": {
            "text/plain": [
              "{'loss': 0.2670535147190094,\n",
              " 'MSE': 0.09768453985452652,\n",
              " 'MAE': 0.2670535147190094,\n",
              " 'root_mean_squared_error': 0.3125452399253845}"
            ]
          },
          "metadata": {},
          "execution_count": 222
        }
      ]
    }
  ]
}