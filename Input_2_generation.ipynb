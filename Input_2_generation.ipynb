{
  "nbformat": 4,
  "nbformat_minor": 0,
  "metadata": {
    "colab": {
      "provenance": [],
      "machine_shape": "hm"
    },
    "kernelspec": {
      "name": "python3",
      "display_name": "Python 3"
    },
    "language_info": {
      "name": "python"
    },
    "gpuClass": "standard"
  },
  "cells": [
    {
      "cell_type": "code",
      "execution_count": null,
      "metadata": {
        "colab": {
          "base_uri": "https://localhost:8080/"
        },
        "id": "PlMIlvyFJVtS",
        "outputId": "cb43945d-6d94-44ae-9640-70f90e2f0ccd"
      },
      "outputs": [
        {
          "output_type": "stream",
          "name": "stdout",
          "text": [
            "Mounted at /content/drive\n"
          ]
        }
      ],
      "source": [
        "from google.colab import drive\n",
        "drive.mount('/content/drive')"
      ]
    },
    {
      "cell_type": "code",
      "source": [
        "import cv2\n",
        "import glob\n",
        "import os"
      ],
      "metadata": {
        "id": "U_P7DTzSJsUQ"
      },
      "execution_count": null,
      "outputs": []
    },
    {
      "cell_type": "code",
      "source": [
        "images_path = glob.glob('/content/drive/MyDrive/Test_data_final/output/*.png')"
      ],
      "metadata": {
        "id": "LX2ekfheJya-"
      },
      "execution_count": null,
      "outputs": []
    },
    {
      "cell_type": "code",
      "source": [
        "i = 1\n",
        "for image in images_path:\n",
        "  img = cv2.imread(image)\n",
        "  img = cv2.cvtColor(img, cv2.COLOR_BGR2GRAY)\n",
        "  ret, thresh1 = cv2.threshold(img, 220, 255, cv2.THRESH_BINARY)\n",
        "  cv2.imwrite('/content/drive/MyDrive/Test_data_final/Masks/%i.png'%i, thresh1)\n",
        "  i += 1"
      ],
      "metadata": {
        "id": "IDy0AP8pKXCT"
      },
      "execution_count": null,
      "outputs": []
    }
  ]
}